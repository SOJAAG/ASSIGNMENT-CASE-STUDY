{
 "cells": [
  {
   "cell_type": "code",
   "execution_count": 61,
   "id": "548f0d58-60c8-4b95-a0a4-78b59c64e3a2",
   "metadata": {},
   "outputs": [
    {
     "name": "stdout",
     "output_type": "stream",
     "text": [
      "[10, 12, 14, 15, 17, 18, 19, 20, 22, 24]\n",
      "mean= 17.1\n",
      "median= 17.5\n",
      "mode= 12\n",
      "Q1= 14\n",
      "Q2= 18\n",
      "Q3= 20\n",
      "IQR= 6\n",
      "min= 10\n",
      "max= 24\n",
      "Range= 14\n",
      "lower bound= 5.0\n",
      "upper bound= 29.0\n",
      "Variance= 19.433333333333334\n",
      "Standard Deviation= 4.408325456829762\n",
      "z-score= [-1.1569018780359415, -0.4763713615442114, -0.7032148670414547, -1.6105888890304283, 0.2041591549475187, 0.6578461659420054, 1.1115331769364922, 1.5652201879309788, -0.02268435054972466, 0.4310026604447621]\n"
     ]
    }
   ],
   "source": [
    "#Question 1 to 7\n",
    "#MEAN,MEDIAN,MODE,Q1,Q2,Q3,IQR,MIN,MAX,RANGE,LB,UB,VARIANCE,SD\n",
    "data = [12, 15, 14, 10, 18, 20, 22, 24, 17, 19]\n",
    "sort_data = sorted(data)\n",
    "print(sort_data)\n",
    "import statistics\n",
    "import math\n",
    "\n",
    "MEAN = statistics.mean(data)\n",
    "MEDIAN = statistics.median(data)\n",
    "MODE = statistics.mode(data)\n",
    "\n",
    "Q1 = sort_data[ int(len(sort_data)/4)]\n",
    "Q2 = sort_data[ int(len(sort_data)/2)]\n",
    "Q3 = sort_data[ int(len(sort_data)*(3/4))]\n",
    "IQR = Q3-Q1\n",
    "MIN = min(sort_data)\n",
    "MAX = max(sort_data)\n",
    "Range = MAX-MIN\n",
    "LB = Q1-(1.5*IQR)\n",
    "UB =Q3+(1.5*IQR)\n",
    "Variance = statistics.variance(sort_data)\n",
    "Standard_deviation = statistics.stdev(sort_data)\n",
    "\n",
    "z=[]\n",
    "for x in data:\n",
    "    z.append((x - MEAN) / Standard_deviation)\n",
    "  \n",
    "\n",
    "print(\"mean=\",MEAN)\n",
    "print(\"median=\",MEDIAN)\n",
    "print(\"mode=\",MODE)\n",
    "print(\"Q1=\",Q1)\n",
    "print(\"Q2=\",Q2)\n",
    "print(\"Q3=\",Q3)\n",
    "print(\"IQR=\",IQR)\n",
    "print(\"min=\",MIN)\n",
    "print(\"max=\",MAX)\n",
    "print(\"Range=\",Range)\n",
    "print(\"lower bound=\",LB)\n",
    "print(\"upper bound=\",UB)\n",
    "print(\"Variance=\",Variance)\n",
    "print(\"Standard Deviation=\",Standard_deviation)\n",
    "print(\"z-score=\",z) "
   ]
  },
  {
   "cell_type": "code",
   "execution_count": null,
   "id": "879daacb-dcff-479d-be50-290b2c92ddad",
   "metadata": {},
   "outputs": [],
   "source": []
  },
  {
   "cell_type": "markdown",
   "id": "bfc32ed0-50c4-410e-95fb-0f8c7f098966",
   "metadata": {},
   "source": [
    "### Z-TEST\n",
    " Question no 15: Given a sample mean of 25, population mean of 22, population standard deviation of 3, and sample size of 40, compute the Z-test statistic and interpret the results.\n",
    "\n"
   ]
  },
  {
   "cell_type": "code",
   "execution_count": 55,
   "id": "c1e34aff-2f3a-46db-9a52-5dc702d149e8",
   "metadata": {},
   "outputs": [
    {
     "name": "stdout",
     "output_type": "stream",
     "text": [
      "Z_TEST_VALUE= 6.324555320336759\n"
     ]
    }
   ],
   "source": [
    "sample_mean= 25\n",
    "population_mean=22\n",
    "population_SD=3\n",
    "sample_size=40\n",
    "import math\n",
    "Z_TEST_VALUE = (sample_mean-population_mean)/(population_SD/math.sqrt(sample_size))\n",
    "print(\"Z_TEST_VALUE=\",Z_TEST_VALUE)\n"
   ]
  },
  {
   "cell_type": "markdown",
   "id": "99a8d1e7-bfe1-43fc-9953-ad469dc310b2",
   "metadata": {},
   "source": [
    "Question no 16 : \n",
    "\n",
    "ANS : P VALUE < 0.00001\n",
    "\n",
    "P value for the z-test value is < 0.05, result is significant at p<0.05. Hence we failed to reject the Null Hypothesis."
   ]
  },
  {
   "cell_type": "markdown",
   "id": "5fce5afb-41c6-4034-a97e-1f026c377fd5",
   "metadata": {},
   "source": [
    "Question 18 & 19:\n",
    "\n",
    "Two groups of students took a math test. Their scores are:\n",
    "\n",
    "○ Group 1: [85, 90, 88, 92, 86]\n",
    "\n",
    "○ Group 2: [78, 75, 80, 83, 79]\n",
    "\n",
    "● Perform an independent sample t-test to determine if there is a significant\n",
    "difference between the means."
   ]
  },
  {
   "cell_type": "code",
   "execution_count": 20,
   "id": "f6385131-c15e-4d4a-be14-ee53430871a1",
   "metadata": {},
   "outputs": [
    {
     "name": "stdout",
     "output_type": "stream",
     "text": [
      "pooled standard deviation= 2.8896366553599777\n",
      "sample_sd_x1= 2.8635642126552705\n",
      "sample_sd_x2= 2.9154759474226504\n",
      "t_test= 5.034016027514164\n"
     ]
    }
   ],
   "source": [
    "import math\n",
    "#mean values and sample sd values are taken from excel sheet attached.\n",
    "mean_x1= 88.2\n",
    "mean_x2=79\n",
    "sample_sd_x1 = math.sqrt(32.8/4)\n",
    "sample_sd_x2 = math.sqrt(34/4)\n",
    "\n",
    "pooled_sd = math.sqrt(((4*sample_sd_x1**2)+(4*sample_sd_x2**2))/8)\n",
    "\n",
    "t_test=((mean_x1-mean_x2)/(pooled_sd*(math.sqrt((1/5)+(1/5)))))\n",
    "\n",
    "print(\"pooled standard deviation=\",pooled_sd)\n",
    "print(\"sample_sd_x1=\",sample_sd_x1)\n",
    "print(\"sample_sd_x2=\",sample_sd_x2)\n",
    "print(\"t_test=\",t_test)\n",
    "\n",
    "# critical value from table = 2.306\n",
    "#since t-static > critical t value, we reject the Null Hypothesis."
   ]
  },
  {
   "cell_type": "code",
   "execution_count": null,
   "id": "0980eaa6-7046-442e-a5f8-ad4db6ab2222",
   "metadata": {},
   "outputs": [],
   "source": []
  }
 ],
 "metadata": {
  "kernelspec": {
   "display_name": "Python 3 (ipykernel)",
   "language": "python",
   "name": "python3"
  },
  "language_info": {
   "codemirror_mode": {
    "name": "ipython",
    "version": 3
   },
   "file_extension": ".py",
   "mimetype": "text/x-python",
   "name": "python",
   "nbconvert_exporter": "python",
   "pygments_lexer": "ipython3",
   "version": "3.12.7"
  }
 },
 "nbformat": 4,
 "nbformat_minor": 5
}
